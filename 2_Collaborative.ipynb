{
 "cells": [
  {
   "cell_type": "markdown",
   "metadata": {},
   "source": [
    "---\n",
    "## 2. Collaborative Based Filtering"
   ]
  },
  {
   "cell_type": "markdown",
   "metadata": {},
   "source": [
    "### Data Preparation and Exploratory Data Analysis"
   ]
  },
  {
   "cell_type": "markdown",
   "metadata": {},
   "source": [
    "First we will do data cleaning for duplicates and null values."
   ]
  },
  {
   "cell_type": "code",
   "execution_count": 1,
   "metadata": {},
   "outputs": [],
   "source": [
    "#Import basic packages\n",
    "import pandas as pd\n",
    "import numpy as np\n",
    "import matplotlib.pyplot as plt"
   ]
  },
  {
   "cell_type": "code",
   "execution_count": 2,
   "metadata": {},
   "outputs": [],
   "source": [
    "#Load the data into data frames\n",
    "df_reviews = pd.read_csv('data/reviews.csv')"
   ]
  },
  {
   "cell_type": "code",
   "execution_count": 3,
   "metadata": {},
   "outputs": [
    {
     "name": "stdout",
     "output_type": "stream",
     "text": [
      "<class 'pandas.core.frame.DataFrame'>\n",
      "RangeIndex: 203284 entries, 0 to 203283\n",
      "Data columns (total 6 columns):\n",
      " #   Column         Non-Null Count   Dtype \n",
      "---  ------         --------------   ----- \n",
      " 0   listing_id     203284 non-null  int64 \n",
      " 1   id             203284 non-null  int64 \n",
      " 2   date           203284 non-null  object\n",
      " 3   reviewer_id    203284 non-null  int64 \n",
      " 4   reviewer_name  203284 non-null  object\n",
      " 5   comments       203195 non-null  object\n",
      "dtypes: int64(3), object(3)\n",
      "memory usage: 9.3+ MB\n"
     ]
    }
   ],
   "source": [
    "#Check reviews dataset\n",
    "df_reviews.info()"
   ]
  },
  {
   "cell_type": "code",
   "execution_count": 4,
   "metadata": {},
   "outputs": [
    {
     "data": {
      "text/plain": [
       "listing_id       0.000000\n",
       "id               0.000000\n",
       "date             0.000000\n",
       "reviewer_id      0.000000\n",
       "reviewer_name    0.000000\n",
       "comments         0.000438\n",
       "dtype: float64"
      ]
     },
     "execution_count": 4,
     "metadata": {},
     "output_type": "execute_result"
    }
   ],
   "source": [
    "#find percentage of null value by comparing to total rows\n",
    "(df_reviews.isna().sum()/df_reviews.shape[0])"
   ]
  },
  {
   "cell_type": "code",
   "execution_count": 5,
   "metadata": {},
   "outputs": [],
   "source": [
    "#Drop the null rows, only 0.04%\n",
    "df_reviews.dropna(subset =['comments'], inplace=True)"
   ]
  },
  {
   "cell_type": "code",
   "execution_count": 6,
   "metadata": {},
   "outputs": [
    {
     "name": "stdout",
     "output_type": "stream",
     "text": [
      "<class 'pandas.core.frame.DataFrame'>\n",
      "Int64Index: 203195 entries, 0 to 203283\n",
      "Data columns (total 6 columns):\n",
      " #   Column         Non-Null Count   Dtype \n",
      "---  ------         --------------   ----- \n",
      " 0   listing_id     203195 non-null  int64 \n",
      " 1   id             203195 non-null  int64 \n",
      " 2   date           203195 non-null  object\n",
      " 3   reviewer_id    203195 non-null  int64 \n",
      " 4   reviewer_name  203195 non-null  object\n",
      " 5   comments       203195 non-null  object\n",
      "dtypes: int64(3), object(3)\n",
      "memory usage: 10.9+ MB\n"
     ]
    }
   ],
   "source": [
    "df_reviews.info()"
   ]
  },
  {
   "cell_type": "code",
   "execution_count": 7,
   "metadata": {},
   "outputs": [
    {
     "data": {
      "text/html": [
       "<div>\n",
       "<style scoped>\n",
       "    .dataframe tbody tr th:only-of-type {\n",
       "        vertical-align: middle;\n",
       "    }\n",
       "\n",
       "    .dataframe tbody tr th {\n",
       "        vertical-align: top;\n",
       "    }\n",
       "\n",
       "    .dataframe thead th {\n",
       "        text-align: right;\n",
       "    }\n",
       "</style>\n",
       "<table border=\"1\" class=\"dataframe\">\n",
       "  <thead>\n",
       "    <tr style=\"text-align: right;\">\n",
       "      <th></th>\n",
       "      <th>listing_id</th>\n",
       "      <th>id</th>\n",
       "      <th>date</th>\n",
       "      <th>reviewer_id</th>\n",
       "      <th>reviewer_name</th>\n",
       "      <th>comments</th>\n",
       "    </tr>\n",
       "  </thead>\n",
       "  <tbody>\n",
       "  </tbody>\n",
       "</table>\n",
       "</div>"
      ],
      "text/plain": [
       "Empty DataFrame\n",
       "Columns: [listing_id, id, date, reviewer_id, reviewer_name, comments]\n",
       "Index: []"
      ]
     },
     "execution_count": 7,
     "metadata": {},
     "output_type": "execute_result"
    }
   ],
   "source": [
    "#Check duplicates for df_listings\n",
    "df_reviews[df_reviews.duplicated()]"
   ]
  },
  {
   "cell_type": "markdown",
   "metadata": {},
   "source": [
    "I dropped null rows considering only 0.04% of total data points. Also, there is no duplicates value in the dataset. "
   ]
  },
  {
   "cell_type": "markdown",
   "metadata": {},
   "source": [
    "In the dataset, there is no review scores for each reviews from the users. In order to do colaborative filtering, we need the review score as the base. It means that we have to do unsupervised sentiment analysis. There are 2 commons library that are widely use to do the sentiment analysis easily, SentimentIntensityAnalyzer function from NLTK VADER package and TextBlob. Let's try both and see which one is better for our purpose."
   ]
  },
  {
   "cell_type": "markdown",
   "metadata": {},
   "source": [
    "I will start with NLTK VADER library."
   ]
  },
  {
   "cell_type": "code",
   "execution_count": 8,
   "metadata": {},
   "outputs": [],
   "source": [
    "#Lowercase the comments column \n",
    "df_reviews['comments'] = df_reviews['comments'].str.lower()"
   ]
  },
  {
   "cell_type": "code",
   "execution_count": 9,
   "metadata": {},
   "outputs": [],
   "source": [
    "#Import package from NLTK\n",
    "import nltk\n",
    "import nltk.data\n",
    "from nltk.sentiment.vader import SentimentIntensityAnalyzer\n",
    "from nltk import sentiment\n",
    "from nltk import word_tokenize"
   ]
  },
  {
   "cell_type": "code",
   "execution_count": 10,
   "metadata": {},
   "outputs": [
    {
     "name": "stderr",
     "output_type": "stream",
     "text": [
      "[nltk_data] Downloading package vader_lexicon to\n",
      "[nltk_data]     C:\\Users\\reyna\\AppData\\Roaming\\nltk_data...\n",
      "[nltk_data]   Package vader_lexicon is already up-to-date!\n"
     ]
    },
    {
     "data": {
      "text/plain": [
       "True"
      ]
     },
     "execution_count": 10,
     "metadata": {},
     "output_type": "execute_result"
    }
   ],
   "source": [
    "#Download vader_lexicon\n",
    "nltk.download('vader_lexicon')"
   ]
  },
  {
   "cell_type": "code",
   "execution_count": 11,
   "metadata": {},
   "outputs": [],
   "source": [
    "#Set the SentimentIntensityAnalyzer function\n",
    "sia = SentimentIntensityAnalyzer()"
   ]
  },
  {
   "cell_type": "code",
   "execution_count": 12,
   "metadata": {},
   "outputs": [
    {
     "data": {
      "text/plain": [
       "'this accommodation was excellent. beautiful space, nicely appointed, clean, amazing view, location is great and there is a parking space for a small fee. our check in went on time and smoothly, simon was very pleasant to deal with. all around happy experience.'"
      ]
     },
     "execution_count": 12,
     "metadata": {},
     "output_type": "execute_result"
    }
   ],
   "source": [
    "#Check 1 row of the comments to test the function\n",
    "df_reviews['comments'][0]"
   ]
  },
  {
   "cell_type": "code",
   "execution_count": 13,
   "metadata": {},
   "outputs": [
    {
     "data": {
      "text/plain": [
       "{'neg': 0.0, 'neu': 0.538, 'pos': 0.462, 'compound': 0.9824}"
      ]
     },
     "execution_count": 13,
     "metadata": {},
     "output_type": "execute_result"
    }
   ],
   "source": [
    "#Test the function\n",
    "sia.polarity_scores(df_reviews['comments'][0])"
   ]
  },
  {
   "cell_type": "markdown",
   "metadata": {},
   "source": [
    "From the function, we can use compound value. The interpretation of the value is:\n",
    "- positive sentiment : compound score >= 0.5\n",
    "- neutral sentiment  : compound score < 0.5 and compound score >= -0.5\n",
    "- negative sentiment : compound score <= -0.5\n",
    "\n",
    "We can learn from the sample comment that it is a positive sentiment. We can use this score as estimation of review score."
   ]
  },
  {
   "cell_type": "code",
   "execution_count": 14,
   "metadata": {},
   "outputs": [
    {
     "data": {
      "text/plain": [
       "0.9824"
      ]
     },
     "execution_count": 14,
     "metadata": {},
     "output_type": "execute_result"
    }
   ],
   "source": [
    "#Get the compound score for sample comment\n",
    "sia.polarity_scores(df_reviews['comments'][0])['compound']"
   ]
  },
  {
   "cell_type": "code",
   "execution_count": 15,
   "metadata": {},
   "outputs": [],
   "source": [
    "#Create new column for the compound score (will use polarity as terminology from here)\n",
    "df_reviews['vader_polarity'] = df_reviews.comments.apply(lambda x: sia.polarity_scores(x)['compound'])"
   ]
  },
  {
   "cell_type": "code",
   "execution_count": 16,
   "metadata": {},
   "outputs": [
    {
     "data": {
      "text/html": [
       "<div>\n",
       "<style scoped>\n",
       "    .dataframe tbody tr th:only-of-type {\n",
       "        vertical-align: middle;\n",
       "    }\n",
       "\n",
       "    .dataframe tbody tr th {\n",
       "        vertical-align: top;\n",
       "    }\n",
       "\n",
       "    .dataframe thead th {\n",
       "        text-align: right;\n",
       "    }\n",
       "</style>\n",
       "<table border=\"1\" class=\"dataframe\">\n",
       "  <thead>\n",
       "    <tr style=\"text-align: right;\">\n",
       "      <th></th>\n",
       "      <th>listing_id</th>\n",
       "      <th>id</th>\n",
       "      <th>date</th>\n",
       "      <th>reviewer_id</th>\n",
       "      <th>reviewer_name</th>\n",
       "      <th>comments</th>\n",
       "      <th>vader_polarity</th>\n",
       "    </tr>\n",
       "  </thead>\n",
       "  <tbody>\n",
       "    <tr>\n",
       "      <th>0</th>\n",
       "      <td>10080</td>\n",
       "      <td>720466</td>\n",
       "      <td>2011-11-15</td>\n",
       "      <td>143771</td>\n",
       "      <td>Anthony</td>\n",
       "      <td>this accommodation was excellent. beautiful sp...</td>\n",
       "      <td>0.9824</td>\n",
       "    </tr>\n",
       "    <tr>\n",
       "      <th>1</th>\n",
       "      <td>10080</td>\n",
       "      <td>786114</td>\n",
       "      <td>2011-12-14</td>\n",
       "      <td>1472653</td>\n",
       "      <td>Nilesh</td>\n",
       "      <td>the host canceled my reservation 13 days befor...</td>\n",
       "      <td>0.0000</td>\n",
       "    </tr>\n",
       "    <tr>\n",
       "      <th>2</th>\n",
       "      <td>10080</td>\n",
       "      <td>989885</td>\n",
       "      <td>2012-03-12</td>\n",
       "      <td>1433564</td>\n",
       "      <td>Avril</td>\n",
       "      <td>this apartment is fantastic, just what i and m...</td>\n",
       "      <td>0.9595</td>\n",
       "    </tr>\n",
       "    <tr>\n",
       "      <th>3</th>\n",
       "      <td>10080</td>\n",
       "      <td>1419559</td>\n",
       "      <td>2012-06-05</td>\n",
       "      <td>725806</td>\n",
       "      <td>Dennis</td>\n",
       "      <td>very nice apartment and great view. close to s...</td>\n",
       "      <td>0.6997</td>\n",
       "    </tr>\n",
       "    <tr>\n",
       "      <th>4</th>\n",
       "      <td>10080</td>\n",
       "      <td>3354964</td>\n",
       "      <td>2013-01-15</td>\n",
       "      <td>3641867</td>\n",
       "      <td>Jude</td>\n",
       "      <td>both rami and mauricio made our family of 5 fe...</td>\n",
       "      <td>0.9694</td>\n",
       "    </tr>\n",
       "  </tbody>\n",
       "</table>\n",
       "</div>"
      ],
      "text/plain": [
       "   listing_id       id        date  reviewer_id reviewer_name  \\\n",
       "0       10080   720466  2011-11-15       143771       Anthony   \n",
       "1       10080   786114  2011-12-14      1472653        Nilesh   \n",
       "2       10080   989885  2012-03-12      1433564         Avril   \n",
       "3       10080  1419559  2012-06-05       725806        Dennis   \n",
       "4       10080  3354964  2013-01-15      3641867          Jude   \n",
       "\n",
       "                                            comments  vader_polarity  \n",
       "0  this accommodation was excellent. beautiful sp...          0.9824  \n",
       "1  the host canceled my reservation 13 days befor...          0.0000  \n",
       "2  this apartment is fantastic, just what i and m...          0.9595  \n",
       "3  very nice apartment and great view. close to s...          0.6997  \n",
       "4  both rami and mauricio made our family of 5 fe...          0.9694  "
      ]
     },
     "execution_count": 16,
     "metadata": {},
     "output_type": "execute_result"
    }
   ],
   "source": [
    "#Check the value\n",
    "df_reviews.head()"
   ]
  },
  {
   "cell_type": "markdown",
   "metadata": {},
   "source": [
    "Now we have the polarity score from VADER library. Let's see the distribution."
   ]
  },
  {
   "cell_type": "code",
   "execution_count": 17,
   "metadata": {},
   "outputs": [
    {
     "data": {
      "text/plain": [
       "Text(0, 0.5, '# of Reviews')"
      ]
     },
     "execution_count": 17,
     "metadata": {},
     "output_type": "execute_result"
    },
    {
     "data": {
      "image/png": "[encoded data removed]",
      "text/plain": [
       "<Figure size 432x288 with 1 Axes>"
      ]
     },
     "metadata": {
      "needs_background": "light"
     },
     "output_type": "display_data"
    }
   ],
   "source": [
    "#See the distribution of the polarity score\n",
    "plt.figure()\n",
    "plt.hist(df_reviews['vader_polarity'], bins=15, color=\"green\")\n",
    "plt.title('Distribution of VADER Polarity')\n",
    "plt.xlabel('Polarity Scores')\n",
    "plt.ylabel('# of Reviews')"
   ]
  },
  {
   "cell_type": "markdown",
   "metadata": {},
   "source": [
    "We can see most reviews has positive sentiment. Next, I will try the second library from TextBlob."
   ]
  },
  {
   "cell_type": "code",
   "execution_count": 19,
   "metadata": {},
   "outputs": [],
   "source": [
    "#Import TextBlob package\n",
    "from textblob import TextBlob\n",
    "\n",
    "#Get the polarity score using below function\n",
    "def get_textBlob_score(sent):\n",
    "    #This polarity score is between -1 to 1\n",
    "    polarity = TextBlob(sent).sentiment.polarity\n",
    "    return polarity"
   ]
  },
  {
   "cell_type": "code",
   "execution_count": 20,
   "metadata": {},
   "outputs": [
    {
     "data": {
      "text/plain": [
       "0.612"
      ]
     },
     "execution_count": 20,
     "metadata": {},
     "output_type": "execute_result"
    }
   ],
   "source": [
    "#Test the function using the same sample\n",
    "TextBlob(df_reviews['comments'][0]).sentiment.polarity"
   ]
  },
  {
   "cell_type": "code",
   "execution_count": 21,
   "metadata": {},
   "outputs": [],
   "source": [
    "#Create new column for the polarity score\n",
    "df_reviews['TB_polarity'] = df_reviews.comments.apply(lambda x: get_textBlob_score(x))"
   ]
  },
  {
   "cell_type": "code",
   "execution_count": 22,
   "metadata": {},
   "outputs": [
    {
     "data": {
      "text/plain": [
       "Text(0, 0.5, '# of Reviews')"
      ]
     },
     "execution_count": 22,
     "metadata": {},
     "output_type": "execute_result"
    },
    {
     "data": {
      "image/png": "[encoded data removed]",
      "text/plain": [
       "<Figure size 432x288 with 1 Axes>"
      ]
     },
     "metadata": {
      "needs_background": "light"
     },
     "output_type": "display_data"
    }
   ],
   "source": [
    "#See the distribution of the polarity score\n",
    "plt.figure()\n",
    "plt.hist(df_reviews['TB_polarity'], bins=15, color=\"green\")\n",
    "plt.title('Distribution of TextBlob Polarity')\n",
    "plt.xlabel('Polarity Scores')\n",
    "plt.ylabel('# of Reviews')"
   ]
  },
  {
   "cell_type": "markdown",
   "metadata": {},
   "source": [
    "We still have positive review as majority, but we can see more normalize data than the other. It is understandable that we have wider distribution for positive review because all positive value means positive sentiment (range between 0 and 1), while in VADER the range is between 0.5 and 1. While there is no right or wrong in both methods, I will pick TextBlob polarity score because it will be useful for modelling purpose (later on) considering the distribution.\n",
    "\n",
    "Next, I will do MinMaxScaler to scale the data and put the value between 0 and 1."
   ]
  },
  {
   "cell_type": "code",
   "execution_count": 23,
   "metadata": {},
   "outputs": [],
   "source": [
    "#Import the Scaler\n",
    "from sklearn.preprocessing import MinMaxScaler\n",
    "\n",
    "#instantiate the scaler\n",
    "MM = MinMaxScaler()\n",
    "\n",
    "df_polarity = pd.DataFrame(df_reviews['TB_polarity'])\n",
    "\n",
    "#Fit the scaler\n",
    "MM.fit(df_polarity)\n",
    "\n",
    "#Transform\n",
    "df_polarity = MM.transform(df_polarity)"
   ]
  },
  {
   "cell_type": "code",
   "execution_count": 24,
   "metadata": {},
   "outputs": [
    {
     "data": {
      "text/plain": [
       "array([[0.806     ],\n",
       "       [0.5       ],\n",
       "       [0.56977513],\n",
       "       ...,\n",
       "       [1.        ],\n",
       "       [0.72756579],\n",
       "       [0.955     ]])"
      ]
     },
     "execution_count": 24,
     "metadata": {},
     "output_type": "execute_result"
    }
   ],
   "source": [
    "df_polarity"
   ]
  },
  {
   "cell_type": "code",
   "execution_count": 26,
   "metadata": {},
   "outputs": [
    {
     "data": {
      "text/plain": [
       "Text(0, 0.5, '# of Reviews')"
      ]
     },
     "execution_count": 26,
     "metadata": {},
     "output_type": "execute_result"
    },
    {
     "data": {
      "image/png": "[encoded data removed]",
      "text/plain": [
       "<Figure size 432x288 with 1 Axes>"
      ]
     },
     "metadata": {
      "needs_background": "light"
     },
     "output_type": "display_data"
    }
   ],
   "source": [
    "#See the distribution of the polarity score\n",
    "plt.figure()\n",
    "plt.hist(df_polarity, bins=15, color=\"green\")\n",
    "plt.title('Distribution of Polarity')\n",
    "plt.xlabel('Polarity Scores')\n",
    "plt.ylabel('# of Reviews')"
   ]
  },
  {
   "cell_type": "code",
   "execution_count": 27,
   "metadata": {},
   "outputs": [],
   "source": [
    "#Put the polarity data into reviews dataframe\n",
    "df_reviews['polarity'] = df_polarity"
   ]
  },
  {
   "cell_type": "code",
   "execution_count": 28,
   "metadata": {},
   "outputs": [
    {
     "data": {
      "text/html": [
       "<div>\n",
       "<style scoped>\n",
       "    .dataframe tbody tr th:only-of-type {\n",
       "        vertical-align: middle;\n",
       "    }\n",
       "\n",
       "    .dataframe tbody tr th {\n",
       "        vertical-align: top;\n",
       "    }\n",
       "\n",
       "    .dataframe thead th {\n",
       "        text-align: right;\n",
       "    }\n",
       "</style>\n",
       "<table border=\"1\" class=\"dataframe\">\n",
       "  <thead>\n",
       "    <tr style=\"text-align: right;\">\n",
       "      <th></th>\n",
       "      <th>listing_id</th>\n",
       "      <th>id</th>\n",
       "      <th>date</th>\n",
       "      <th>reviewer_id</th>\n",
       "      <th>reviewer_name</th>\n",
       "      <th>comments</th>\n",
       "      <th>vader_polarity</th>\n",
       "      <th>TB_polarity</th>\n",
       "      <th>polarity</th>\n",
       "    </tr>\n",
       "  </thead>\n",
       "  <tbody>\n",
       "    <tr>\n",
       "      <th>0</th>\n",
       "      <td>10080</td>\n",
       "      <td>720466</td>\n",
       "      <td>2011-11-15</td>\n",
       "      <td>143771</td>\n",
       "      <td>Anthony</td>\n",
       "      <td>this accommodation was excellent. beautiful sp...</td>\n",
       "      <td>0.9824</td>\n",
       "      <td>0.612000</td>\n",
       "      <td>0.806000</td>\n",
       "    </tr>\n",
       "    <tr>\n",
       "      <th>1</th>\n",
       "      <td>10080</td>\n",
       "      <td>786114</td>\n",
       "      <td>2011-12-14</td>\n",
       "      <td>1472653</td>\n",
       "      <td>Nilesh</td>\n",
       "      <td>the host canceled my reservation 13 days befor...</td>\n",
       "      <td>0.0000</td>\n",
       "      <td>0.000000</td>\n",
       "      <td>0.500000</td>\n",
       "    </tr>\n",
       "    <tr>\n",
       "      <th>2</th>\n",
       "      <td>10080</td>\n",
       "      <td>989885</td>\n",
       "      <td>2012-03-12</td>\n",
       "      <td>1433564</td>\n",
       "      <td>Avril</td>\n",
       "      <td>this apartment is fantastic, just what i and m...</td>\n",
       "      <td>0.9595</td>\n",
       "      <td>0.139550</td>\n",
       "      <td>0.569775</td>\n",
       "    </tr>\n",
       "    <tr>\n",
       "      <th>3</th>\n",
       "      <td>10080</td>\n",
       "      <td>1419559</td>\n",
       "      <td>2012-06-05</td>\n",
       "      <td>725806</td>\n",
       "      <td>Dennis</td>\n",
       "      <td>very nice apartment and great view. close to s...</td>\n",
       "      <td>0.6997</td>\n",
       "      <td>0.377143</td>\n",
       "      <td>0.688571</td>\n",
       "    </tr>\n",
       "    <tr>\n",
       "      <th>4</th>\n",
       "      <td>10080</td>\n",
       "      <td>3354964</td>\n",
       "      <td>2013-01-15</td>\n",
       "      <td>3641867</td>\n",
       "      <td>Jude</td>\n",
       "      <td>both rami and mauricio made our family of 5 fe...</td>\n",
       "      <td>0.9694</td>\n",
       "      <td>0.328351</td>\n",
       "      <td>0.664175</td>\n",
       "    </tr>\n",
       "  </tbody>\n",
       "</table>\n",
       "</div>"
      ],
      "text/plain": [
       "   listing_id       id        date  reviewer_id reviewer_name  \\\n",
       "0       10080   720466  2011-11-15       143771       Anthony   \n",
       "1       10080   786114  2011-12-14      1472653        Nilesh   \n",
       "2       10080   989885  2012-03-12      1433564         Avril   \n",
       "3       10080  1419559  2012-06-05       725806        Dennis   \n",
       "4       10080  3354964  2013-01-15      3641867          Jude   \n",
       "\n",
       "                                            comments  vader_polarity  \\\n",
       "0  this accommodation was excellent. beautiful sp...          0.9824   \n",
       "1  the host canceled my reservation 13 days befor...          0.0000   \n",
       "2  this apartment is fantastic, just what i and m...          0.9595   \n",
       "3  very nice apartment and great view. close to s...          0.6997   \n",
       "4  both rami and mauricio made our family of 5 fe...          0.9694   \n",
       "\n",
       "   TB_polarity  polarity  \n",
       "0     0.612000  0.806000  \n",
       "1     0.000000  0.500000  \n",
       "2     0.139550  0.569775  \n",
       "3     0.377143  0.688571  \n",
       "4     0.328351  0.664175  "
      ]
     },
     "execution_count": 28,
     "metadata": {},
     "output_type": "execute_result"
    }
   ],
   "source": [
    "df_reviews.head()"
   ]
  },
  {
   "cell_type": "markdown",
   "metadata": {},
   "source": [
    "We are good now with the standardized polarity score. Next, I will check total review of each reviewer."
   ]
  },
  {
   "cell_type": "code",
   "execution_count": 29,
   "metadata": {},
   "outputs": [
    {
     "data": {
      "text/html": [
       "<div>\n",
       "<style scoped>\n",
       "    .dataframe tbody tr th:only-of-type {\n",
       "        vertical-align: middle;\n",
       "    }\n",
       "\n",
       "    .dataframe tbody tr th {\n",
       "        vertical-align: top;\n",
       "    }\n",
       "\n",
       "    .dataframe thead th {\n",
       "        text-align: right;\n",
       "    }\n",
       "</style>\n",
       "<table border=\"1\" class=\"dataframe\">\n",
       "  <thead>\n",
       "    <tr style=\"text-align: right;\">\n",
       "      <th></th>\n",
       "      <th>reviewer_id</th>\n",
       "      <th>id_count</th>\n",
       "    </tr>\n",
       "  </thead>\n",
       "  <tbody>\n",
       "    <tr>\n",
       "      <th>0</th>\n",
       "      <td>54</td>\n",
       "      <td>1</td>\n",
       "    </tr>\n",
       "    <tr>\n",
       "      <th>1</th>\n",
       "      <td>1956</td>\n",
       "      <td>2</td>\n",
       "    </tr>\n",
       "    <tr>\n",
       "      <th>2</th>\n",
       "      <td>1969</td>\n",
       "      <td>1</td>\n",
       "    </tr>\n",
       "    <tr>\n",
       "      <th>3</th>\n",
       "      <td>2813</td>\n",
       "      <td>1</td>\n",
       "    </tr>\n",
       "    <tr>\n",
       "      <th>4</th>\n",
       "      <td>2852</td>\n",
       "      <td>1</td>\n",
       "    </tr>\n",
       "    <tr>\n",
       "      <th>...</th>\n",
       "      <td>...</td>\n",
       "      <td>...</td>\n",
       "    </tr>\n",
       "    <tr>\n",
       "      <th>185446</th>\n",
       "      <td>345003502</td>\n",
       "      <td>1</td>\n",
       "    </tr>\n",
       "    <tr>\n",
       "      <th>185447</th>\n",
       "      <td>345004289</td>\n",
       "      <td>1</td>\n",
       "    </tr>\n",
       "    <tr>\n",
       "      <th>185448</th>\n",
       "      <td>345465765</td>\n",
       "      <td>1</td>\n",
       "    </tr>\n",
       "    <tr>\n",
       "      <th>185449</th>\n",
       "      <td>345469062</td>\n",
       "      <td>1</td>\n",
       "    </tr>\n",
       "    <tr>\n",
       "      <th>185450</th>\n",
       "      <td>345570468</td>\n",
       "      <td>1</td>\n",
       "    </tr>\n",
       "  </tbody>\n",
       "</table>\n",
       "<p>185451 rows × 2 columns</p>\n",
       "</div>"
      ],
      "text/plain": [
       "        reviewer_id  id_count\n",
       "0                54         1\n",
       "1              1956         2\n",
       "2              1969         1\n",
       "3              2813         1\n",
       "4              2852         1\n",
       "...             ...       ...\n",
       "185446    345003502         1\n",
       "185447    345004289         1\n",
       "185448    345465765         1\n",
       "185449    345469062         1\n",
       "185450    345570468         1\n",
       "\n",
       "[185451 rows x 2 columns]"
      ]
     },
     "execution_count": 29,
     "metadata": {},
     "output_type": "execute_result"
    }
   ],
   "source": [
    "#See total review per reviewer\n",
    "df_review_by_reviewer = df_reviews.groupby('reviewer_id', as_index=False)['reviewer_id'].agg({'id_count':'count'})\n",
    "df_review_by_reviewer"
   ]
  },
  {
   "cell_type": "code",
   "execution_count": 30,
   "metadata": {},
   "outputs": [
    {
     "data": {
      "text/html": [
       "<div>\n",
       "<style scoped>\n",
       "    .dataframe tbody tr th:only-of-type {\n",
       "        vertical-align: middle;\n",
       "    }\n",
       "\n",
       "    .dataframe tbody tr th {\n",
       "        vertical-align: top;\n",
       "    }\n",
       "\n",
       "    .dataframe thead th {\n",
       "        text-align: right;\n",
       "    }\n",
       "</style>\n",
       "<table border=\"1\" class=\"dataframe\">\n",
       "  <thead>\n",
       "    <tr style=\"text-align: right;\">\n",
       "      <th></th>\n",
       "      <th>reviewer_id</th>\n",
       "      <th>id_count</th>\n",
       "    </tr>\n",
       "  </thead>\n",
       "  <tbody>\n",
       "    <tr>\n",
       "      <th>28811</th>\n",
       "      <td>11967216</td>\n",
       "      <td>34</td>\n",
       "    </tr>\n",
       "    <tr>\n",
       "      <th>52159</th>\n",
       "      <td>26599167</td>\n",
       "      <td>27</td>\n",
       "    </tr>\n",
       "    <tr>\n",
       "      <th>93419</th>\n",
       "      <td>64336918</td>\n",
       "      <td>21</td>\n",
       "    </tr>\n",
       "    <tr>\n",
       "      <th>11771</th>\n",
       "      <td>3960298</td>\n",
       "      <td>19</td>\n",
       "    </tr>\n",
       "    <tr>\n",
       "      <th>19758</th>\n",
       "      <td>7196338</td>\n",
       "      <td>17</td>\n",
       "    </tr>\n",
       "    <tr>\n",
       "      <th>2889</th>\n",
       "      <td>791723</td>\n",
       "      <td>16</td>\n",
       "    </tr>\n",
       "    <tr>\n",
       "      <th>176671</th>\n",
       "      <td>264125508</td>\n",
       "      <td>16</td>\n",
       "    </tr>\n",
       "    <tr>\n",
       "      <th>148147</th>\n",
       "      <td>165011407</td>\n",
       "      <td>15</td>\n",
       "    </tr>\n",
       "    <tr>\n",
       "      <th>141751</th>\n",
       "      <td>148316850</td>\n",
       "      <td>15</td>\n",
       "    </tr>\n",
       "    <tr>\n",
       "      <th>163615</th>\n",
       "      <td>210164562</td>\n",
       "      <td>15</td>\n",
       "    </tr>\n",
       "  </tbody>\n",
       "</table>\n",
       "</div>"
      ],
      "text/plain": [
       "        reviewer_id  id_count\n",
       "28811      11967216        34\n",
       "52159      26599167        27\n",
       "93419      64336918        21\n",
       "11771       3960298        19\n",
       "19758       7196338        17\n",
       "2889         791723        16\n",
       "176671    264125508        16\n",
       "148147    165011407        15\n",
       "141751    148316850        15\n",
       "163615    210164562        15"
      ]
     },
     "execution_count": 30,
     "metadata": {},
     "output_type": "execute_result"
    }
   ],
   "source": [
    "df_review_by_reviewer.sort_values('id_count', ascending=False).head(10)"
   ]
  },
  {
   "cell_type": "code",
   "execution_count": 31,
   "metadata": {},
   "outputs": [
    {
     "data": {
      "text/plain": [
       "Text(0, 0.5, 'Distribution')"
      ]
     },
     "execution_count": 31,
     "metadata": {},
     "output_type": "execute_result"
    },
    {
     "data": {
      "image/png": "[encoded data removed]",
      "text/plain": [
       "<Figure size 432x288 with 1 Axes>"
      ]
     },
     "metadata": {
      "needs_background": "light"
     },
     "output_type": "display_data"
    }
   ],
   "source": [
    "#See the distribution of total review per reviewer\n",
    "plt.figure()\n",
    "plt.hist(df_review_by_reviewer['id_count'], bins=100)\n",
    "plt.title('Distribution of Total Review per Reviewer')\n",
    "plt.xlabel('Total Review per Reviewer')\n",
    "plt.ylabel('Distribution')"
   ]
  },
  {
   "cell_type": "markdown",
   "metadata": {},
   "source": [
    "Most reviewer only gave small amount of review. Let's see the detail amount."
   ]
  },
  {
   "cell_type": "code",
   "execution_count": 32,
   "metadata": {},
   "outputs": [
    {
     "data": {
      "text/html": [
       "<div>\n",
       "<style scoped>\n",
       "    .dataframe tbody tr th:only-of-type {\n",
       "        vertical-align: middle;\n",
       "    }\n",
       "\n",
       "    .dataframe tbody tr th {\n",
       "        vertical-align: top;\n",
       "    }\n",
       "\n",
       "    .dataframe thead th {\n",
       "        text-align: right;\n",
       "    }\n",
       "</style>\n",
       "<table border=\"1\" class=\"dataframe\">\n",
       "  <thead>\n",
       "    <tr style=\"text-align: right;\">\n",
       "      <th></th>\n",
       "      <th>id_count</th>\n",
       "      <th>distribution</th>\n",
       "      <th>percentage</th>\n",
       "    </tr>\n",
       "  </thead>\n",
       "  <tbody>\n",
       "    <tr>\n",
       "      <th>0</th>\n",
       "      <td>1</td>\n",
       "      <td>172226</td>\n",
       "      <td>0.928687</td>\n",
       "    </tr>\n",
       "    <tr>\n",
       "      <th>1</th>\n",
       "      <td>2</td>\n",
       "      <td>10577</td>\n",
       "      <td>0.057034</td>\n",
       "    </tr>\n",
       "    <tr>\n",
       "      <th>2</th>\n",
       "      <td>3</td>\n",
       "      <td>1773</td>\n",
       "      <td>0.009560</td>\n",
       "    </tr>\n",
       "    <tr>\n",
       "      <th>3</th>\n",
       "      <td>4</td>\n",
       "      <td>475</td>\n",
       "      <td>0.002561</td>\n",
       "    </tr>\n",
       "    <tr>\n",
       "      <th>4</th>\n",
       "      <td>5</td>\n",
       "      <td>199</td>\n",
       "      <td>0.001073</td>\n",
       "    </tr>\n",
       "    <tr>\n",
       "      <th>5</th>\n",
       "      <td>6</td>\n",
       "      <td>84</td>\n",
       "      <td>0.000453</td>\n",
       "    </tr>\n",
       "    <tr>\n",
       "      <th>6</th>\n",
       "      <td>7</td>\n",
       "      <td>42</td>\n",
       "      <td>0.000226</td>\n",
       "    </tr>\n",
       "    <tr>\n",
       "      <th>7</th>\n",
       "      <td>8</td>\n",
       "      <td>24</td>\n",
       "      <td>0.000129</td>\n",
       "    </tr>\n",
       "    <tr>\n",
       "      <th>8</th>\n",
       "      <td>9</td>\n",
       "      <td>15</td>\n",
       "      <td>0.000081</td>\n",
       "    </tr>\n",
       "    <tr>\n",
       "      <th>9</th>\n",
       "      <td>10</td>\n",
       "      <td>14</td>\n",
       "      <td>0.000075</td>\n",
       "    </tr>\n",
       "    <tr>\n",
       "      <th>10</th>\n",
       "      <td>11</td>\n",
       "      <td>5</td>\n",
       "      <td>0.000027</td>\n",
       "    </tr>\n",
       "    <tr>\n",
       "      <th>11</th>\n",
       "      <td>12</td>\n",
       "      <td>5</td>\n",
       "      <td>0.000027</td>\n",
       "    </tr>\n",
       "    <tr>\n",
       "      <th>12</th>\n",
       "      <td>13</td>\n",
       "      <td>2</td>\n",
       "      <td>0.000011</td>\n",
       "    </tr>\n",
       "    <tr>\n",
       "      <th>13</th>\n",
       "      <td>15</td>\n",
       "      <td>3</td>\n",
       "      <td>0.000016</td>\n",
       "    </tr>\n",
       "    <tr>\n",
       "      <th>14</th>\n",
       "      <td>16</td>\n",
       "      <td>2</td>\n",
       "      <td>0.000011</td>\n",
       "    </tr>\n",
       "    <tr>\n",
       "      <th>15</th>\n",
       "      <td>17</td>\n",
       "      <td>1</td>\n",
       "      <td>0.000005</td>\n",
       "    </tr>\n",
       "    <tr>\n",
       "      <th>16</th>\n",
       "      <td>19</td>\n",
       "      <td>1</td>\n",
       "      <td>0.000005</td>\n",
       "    </tr>\n",
       "    <tr>\n",
       "      <th>17</th>\n",
       "      <td>21</td>\n",
       "      <td>1</td>\n",
       "      <td>0.000005</td>\n",
       "    </tr>\n",
       "    <tr>\n",
       "      <th>18</th>\n",
       "      <td>27</td>\n",
       "      <td>1</td>\n",
       "      <td>0.000005</td>\n",
       "    </tr>\n",
       "    <tr>\n",
       "      <th>19</th>\n",
       "      <td>34</td>\n",
       "      <td>1</td>\n",
       "      <td>0.000005</td>\n",
       "    </tr>\n",
       "  </tbody>\n",
       "</table>\n",
       "</div>"
      ],
      "text/plain": [
       "    id_count  distribution  percentage\n",
       "0          1        172226    0.928687\n",
       "1          2         10577    0.057034\n",
       "2          3          1773    0.009560\n",
       "3          4           475    0.002561\n",
       "4          5           199    0.001073\n",
       "5          6            84    0.000453\n",
       "6          7            42    0.000226\n",
       "7          8            24    0.000129\n",
       "8          9            15    0.000081\n",
       "9         10            14    0.000075\n",
       "10        11             5    0.000027\n",
       "11        12             5    0.000027\n",
       "12        13             2    0.000011\n",
       "13        15             3    0.000016\n",
       "14        16             2    0.000011\n",
       "15        17             1    0.000005\n",
       "16        19             1    0.000005\n",
       "17        21             1    0.000005\n",
       "18        27             1    0.000005\n",
       "19        34             1    0.000005"
      ]
     },
     "execution_count": 32,
     "metadata": {},
     "output_type": "execute_result"
    }
   ],
   "source": [
    "#See the distribution of total review per reviewer\n",
    "df_review_by_reviewer_dist = df_review_by_reviewer.groupby('id_count', as_index=False)['id_count'].agg({'distribution':'count'})\n",
    "df_review_by_reviewer_dist['percentage'] = df_review_by_reviewer_dist['distribution']/df_review_by_reviewer_dist['distribution'].sum()\n",
    "df_review_by_reviewer_dist"
   ]
  },
  {
   "cell_type": "markdown",
   "metadata": {},
   "source": [
    "Well, almost 93% of reviewers only have 1 review. It seems those are tourists that come to the city once only. How about total reviews per listings."
   ]
  },
  {
   "cell_type": "code",
   "execution_count": 33,
   "metadata": {},
   "outputs": [
    {
     "data": {
      "text/html": [
       "<div>\n",
       "<style scoped>\n",
       "    .dataframe tbody tr th:only-of-type {\n",
       "        vertical-align: middle;\n",
       "    }\n",
       "\n",
       "    .dataframe tbody tr th {\n",
       "        vertical-align: top;\n",
       "    }\n",
       "\n",
       "    .dataframe thead th {\n",
       "        text-align: right;\n",
       "    }\n",
       "</style>\n",
       "<table border=\"1\" class=\"dataframe\">\n",
       "  <thead>\n",
       "    <tr style=\"text-align: right;\">\n",
       "      <th></th>\n",
       "      <th>listing_id</th>\n",
       "      <th>id_count</th>\n",
       "    </tr>\n",
       "  </thead>\n",
       "  <tbody>\n",
       "    <tr>\n",
       "      <th>348</th>\n",
       "      <td>3812348</td>\n",
       "      <td>662</td>\n",
       "    </tr>\n",
       "    <tr>\n",
       "      <th>30</th>\n",
       "      <td>77157</td>\n",
       "      <td>634</td>\n",
       "    </tr>\n",
       "    <tr>\n",
       "      <th>461</th>\n",
       "      <td>5471844</td>\n",
       "      <td>517</td>\n",
       "    </tr>\n",
       "    <tr>\n",
       "      <th>244</th>\n",
       "      <td>2592307</td>\n",
       "      <td>516</td>\n",
       "    </tr>\n",
       "    <tr>\n",
       "      <th>349</th>\n",
       "      <td>3829365</td>\n",
       "      <td>503</td>\n",
       "    </tr>\n",
       "    <tr>\n",
       "      <th>36</th>\n",
       "      <td>125176</td>\n",
       "      <td>490</td>\n",
       "    </tr>\n",
       "    <tr>\n",
       "      <th>931</th>\n",
       "      <td>13383325</td>\n",
       "      <td>484</td>\n",
       "    </tr>\n",
       "    <tr>\n",
       "      <th>612</th>\n",
       "      <td>7639521</td>\n",
       "      <td>480</td>\n",
       "    </tr>\n",
       "    <tr>\n",
       "      <th>31</th>\n",
       "      <td>98242</td>\n",
       "      <td>468</td>\n",
       "    </tr>\n",
       "    <tr>\n",
       "      <th>335</th>\n",
       "      <td>3629071</td>\n",
       "      <td>454</td>\n",
       "    </tr>\n",
       "  </tbody>\n",
       "</table>\n",
       "</div>"
      ],
      "text/plain": [
       "     listing_id  id_count\n",
       "348     3812348       662\n",
       "30        77157       634\n",
       "461     5471844       517\n",
       "244     2592307       516\n",
       "349     3829365       503\n",
       "36       125176       490\n",
       "931    13383325       484\n",
       "612     7639521       480\n",
       "31        98242       468\n",
       "335     3629071       454"
      ]
     },
     "execution_count": 33,
     "metadata": {},
     "output_type": "execute_result"
    }
   ],
   "source": [
    "#See total review per listings\n",
    "df_review_by_listing = df_reviews.groupby('listing_id', as_index=False)['listing_id'].agg({'id_count':'count'})\n",
    "df_review_by_listing\n",
    "df_review_by_listing.sort_values('id_count', ascending=False).head(10)"
   ]
  },
  {
   "cell_type": "code",
   "execution_count": 34,
   "metadata": {},
   "outputs": [
    {
     "data": {
      "text/html": [
       "<div>\n",
       "<style scoped>\n",
       "    .dataframe tbody tr th:only-of-type {\n",
       "        vertical-align: middle;\n",
       "    }\n",
       "\n",
       "    .dataframe tbody tr th {\n",
       "        vertical-align: top;\n",
       "    }\n",
       "\n",
       "    .dataframe thead th {\n",
       "        text-align: right;\n",
       "    }\n",
       "</style>\n",
       "<table border=\"1\" class=\"dataframe\">\n",
       "  <thead>\n",
       "    <tr style=\"text-align: right;\">\n",
       "      <th></th>\n",
       "      <th>id_count</th>\n",
       "      <th>distribution</th>\n",
       "      <th>percentage</th>\n",
       "    </tr>\n",
       "  </thead>\n",
       "  <tbody>\n",
       "    <tr>\n",
       "      <th>0</th>\n",
       "      <td>1</td>\n",
       "      <td>406</td>\n",
       "      <td>0.082220</td>\n",
       "    </tr>\n",
       "    <tr>\n",
       "      <th>1</th>\n",
       "      <td>2</td>\n",
       "      <td>291</td>\n",
       "      <td>0.058931</td>\n",
       "    </tr>\n",
       "    <tr>\n",
       "      <th>2</th>\n",
       "      <td>3</td>\n",
       "      <td>206</td>\n",
       "      <td>0.041717</td>\n",
       "    </tr>\n",
       "    <tr>\n",
       "      <th>3</th>\n",
       "      <td>4</td>\n",
       "      <td>215</td>\n",
       "      <td>0.043540</td>\n",
       "    </tr>\n",
       "    <tr>\n",
       "      <th>4</th>\n",
       "      <td>5</td>\n",
       "      <td>170</td>\n",
       "      <td>0.034427</td>\n",
       "    </tr>\n",
       "    <tr>\n",
       "      <th>...</th>\n",
       "      <td>...</td>\n",
       "      <td>...</td>\n",
       "      <td>...</td>\n",
       "    </tr>\n",
       "    <tr>\n",
       "      <th>287</th>\n",
       "      <td>503</td>\n",
       "      <td>1</td>\n",
       "      <td>0.000203</td>\n",
       "    </tr>\n",
       "    <tr>\n",
       "      <th>288</th>\n",
       "      <td>516</td>\n",
       "      <td>1</td>\n",
       "      <td>0.000203</td>\n",
       "    </tr>\n",
       "    <tr>\n",
       "      <th>289</th>\n",
       "      <td>517</td>\n",
       "      <td>1</td>\n",
       "      <td>0.000203</td>\n",
       "    </tr>\n",
       "    <tr>\n",
       "      <th>290</th>\n",
       "      <td>634</td>\n",
       "      <td>1</td>\n",
       "      <td>0.000203</td>\n",
       "    </tr>\n",
       "    <tr>\n",
       "      <th>291</th>\n",
       "      <td>662</td>\n",
       "      <td>1</td>\n",
       "      <td>0.000203</td>\n",
       "    </tr>\n",
       "  </tbody>\n",
       "</table>\n",
       "<p>292 rows × 3 columns</p>\n",
       "</div>"
      ],
      "text/plain": [
       "     id_count  distribution  percentage\n",
       "0           1           406    0.082220\n",
       "1           2           291    0.058931\n",
       "2           3           206    0.041717\n",
       "3           4           215    0.043540\n",
       "4           5           170    0.034427\n",
       "..        ...           ...         ...\n",
       "287       503             1    0.000203\n",
       "288       516             1    0.000203\n",
       "289       517             1    0.000203\n",
       "290       634             1    0.000203\n",
       "291       662             1    0.000203\n",
       "\n",
       "[292 rows x 3 columns]"
      ]
     },
     "execution_count": 34,
     "metadata": {},
     "output_type": "execute_result"
    }
   ],
   "source": [
    "#See the distribution of total review per listing\n",
    "df_review_by_listing_dist = df_review_by_listing.groupby('id_count', as_index=False)['id_count'].agg({'distribution':'count'})\n",
    "df_review_by_listing_dist['percentage'] = df_review_by_listing_dist['distribution']/df_review_by_listing_dist['distribution'].sum()\n",
    "df_review_by_listing_dist"
   ]
  },
  {
   "cell_type": "code",
   "execution_count": 35,
   "metadata": {},
   "outputs": [
    {
     "data": {
      "text/plain": [
       "Text(0, 0.5, 'Distribution')"
      ]
     },
     "execution_count": 35,
     "metadata": {},
     "output_type": "execute_result"
    },
    {
     "data": {
      "image/png": "[encoded data removed]",
      "text/plain": [
       "<Figure size 432x288 with 1 Axes>"
      ]
     },
     "metadata": {
      "needs_background": "light"
     },
     "output_type": "display_data"
    }
   ],
   "source": [
    "#See the distribution of total review per listing\n",
    "plt.figure()\n",
    "plt.hist(df_review_by_listing['id_count'], bins=50)\n",
    "plt.title('Distribution of Total Review per Listing')\n",
    "plt.xlabel('Total Review per Listing')\n",
    "plt.ylabel('Distribution')"
   ]
  },
  {
   "cell_type": "markdown",
   "metadata": {},
   "source": [
    "Even though we still see many listings with few reviews only, but we still have quite amount of listings with many reviews."
   ]
  },
  {
   "cell_type": "markdown",
   "metadata": {},
   "source": [
    "Considering above results, it seems that user-item filtering won't be useful here fo most of the users. For example, we have reviewer A that has 1 review to listing X. Then, we try to find other reviewer that also review listing X, find reviewer B. But reviewer B also only has review to this listing only. We can't give recommendation to other listings because 93% reviewer only has 1 review. \n",
    "\n",
    "Same scenario with item-item filtering since we have to find users who has reviews for the sample and other listings. Even though we have many reviews for several listings, but mostly it came from different users.\n",
    "\n",
    "In that case, we can't have a collaborative recommender system for most users. But, how about the users that has several reviews for severals listings? We can try to build a recommender system for them. Let's filter the data for listings where at least have 2 reviews and for reviewers who at least has 2 reviews."
   ]
  },
  {
   "cell_type": "code",
   "execution_count": 36,
   "metadata": {},
   "outputs": [
    {
     "data": {
      "text/plain": [
       "(203195, 3)"
      ]
     },
     "execution_count": 36,
     "metadata": {},
     "output_type": "execute_result"
    }
   ],
   "source": [
    "#Put the data in simple df format\n",
    "df_reviews_fin = df_reviews[['listing_id','reviewer_id','polarity']]\n",
    "df_reviews_fin.shape"
   ]
  },
  {
   "cell_type": "markdown",
   "metadata": {},
   "source": [
    "Before that, I will check if any reviewer gave review to same listing in different time."
   ]
  },
  {
   "cell_type": "code",
   "execution_count": 37,
   "metadata": {},
   "outputs": [
    {
     "data": {
      "text/html": [
       "<div>\n",
       "<style scoped>\n",
       "    .dataframe tbody tr th:only-of-type {\n",
       "        vertical-align: middle;\n",
       "    }\n",
       "\n",
       "    .dataframe tbody tr th {\n",
       "        vertical-align: top;\n",
       "    }\n",
       "\n",
       "    .dataframe thead th {\n",
       "        text-align: right;\n",
       "    }\n",
       "</style>\n",
       "<table border=\"1\" class=\"dataframe\">\n",
       "  <thead>\n",
       "    <tr style=\"text-align: right;\">\n",
       "      <th></th>\n",
       "      <th>listing_id</th>\n",
       "      <th>id</th>\n",
       "      <th>date</th>\n",
       "      <th>reviewer_id</th>\n",
       "      <th>reviewer_name</th>\n",
       "      <th>comments</th>\n",
       "      <th>vader_polarity</th>\n",
       "      <th>TB_polarity</th>\n",
       "      <th>polarity</th>\n",
       "    </tr>\n",
       "  </thead>\n",
       "  <tbody>\n",
       "    <tr>\n",
       "      <th>77214</th>\n",
       "      <td>14074129</td>\n",
       "      <td>244540579</td>\n",
       "      <td>2018-03-18</td>\n",
       "      <td>6431</td>\n",
       "      <td>Paula</td>\n",
       "      <td>thank you, colin! fabulous stay in comfortable...</td>\n",
       "      <td>0.9380</td>\n",
       "      <td>0.356250</td>\n",
       "      <td>0.678125</td>\n",
       "    </tr>\n",
       "    <tr>\n",
       "      <th>1718</th>\n",
       "      <td>19527</td>\n",
       "      <td>319961713</td>\n",
       "      <td>2018-09-07</td>\n",
       "      <td>12483</td>\n",
       "      <td>Jill</td>\n",
       "      <td>my favourite place to stay! love coming here. ...</td>\n",
       "      <td>0.9137</td>\n",
       "      <td>0.500000</td>\n",
       "      <td>0.750000</td>\n",
       "    </tr>\n",
       "    <tr>\n",
       "      <th>1723</th>\n",
       "      <td>19527</td>\n",
       "      <td>469500471</td>\n",
       "      <td>2019-06-14</td>\n",
       "      <td>12483</td>\n",
       "      <td>Jill</td>\n",
       "      <td>my home away from home. i love staying here! i...</td>\n",
       "      <td>0.9564</td>\n",
       "      <td>0.308429</td>\n",
       "      <td>0.654214</td>\n",
       "    </tr>\n",
       "    <tr>\n",
       "      <th>1732</th>\n",
       "      <td>19527</td>\n",
       "      <td>536005430</td>\n",
       "      <td>2019-09-25</td>\n",
       "      <td>12483</td>\n",
       "      <td>Jill</td>\n",
       "      <td>i try to stay here every time i come to vancou...</td>\n",
       "      <td>0.9819</td>\n",
       "      <td>0.364551</td>\n",
       "      <td>0.682276</td>\n",
       "    </tr>\n",
       "    <tr>\n",
       "      <th>27524</th>\n",
       "      <td>3678989</td>\n",
       "      <td>331097606</td>\n",
       "      <td>2018-10-01</td>\n",
       "      <td>18100</td>\n",
       "      <td>Chihiro</td>\n",
       "      <td>kriszta’s place is lovely and is a great value...</td>\n",
       "      <td>0.9824</td>\n",
       "      <td>0.263750</td>\n",
       "      <td>0.631875</td>\n",
       "    </tr>\n",
       "    <tr>\n",
       "      <th>...</th>\n",
       "      <td>...</td>\n",
       "      <td>...</td>\n",
       "      <td>...</td>\n",
       "      <td>...</td>\n",
       "      <td>...</td>\n",
       "      <td>...</td>\n",
       "      <td>...</td>\n",
       "      <td>...</td>\n",
       "      <td>...</td>\n",
       "    </tr>\n",
       "    <tr>\n",
       "      <th>120393</th>\n",
       "      <td>20747473</td>\n",
       "      <td>624174928</td>\n",
       "      <td>2020-05-07</td>\n",
       "      <td>343774597</td>\n",
       "      <td>Joanne</td>\n",
       "      <td>highly recommend, and will always return great...</td>\n",
       "      <td>0.8803</td>\n",
       "      <td>0.373333</td>\n",
       "      <td>0.686667</td>\n",
       "    </tr>\n",
       "    <tr>\n",
       "      <th>203079</th>\n",
       "      <td>42475163</td>\n",
       "      <td>622921443</td>\n",
       "      <td>2020-04-22</td>\n",
       "      <td>343774597</td>\n",
       "      <td>Joanne</td>\n",
       "      <td>always a pleasure.  thank you for everything</td>\n",
       "      <td>0.7351</td>\n",
       "      <td>0.000000</td>\n",
       "      <td>0.500000</td>\n",
       "    </tr>\n",
       "    <tr>\n",
       "      <th>203080</th>\n",
       "      <td>42475163</td>\n",
       "      <td>622973677</td>\n",
       "      <td>2020-04-23</td>\n",
       "      <td>343774597</td>\n",
       "      <td>Joanne</td>\n",
       "      <td>always a pleasure, enjoy staying here highly r...</td>\n",
       "      <td>0.9095</td>\n",
       "      <td>0.280000</td>\n",
       "      <td>0.640000</td>\n",
       "    </tr>\n",
       "    <tr>\n",
       "      <th>203081</th>\n",
       "      <td>42475163</td>\n",
       "      <td>623101692</td>\n",
       "      <td>2020-04-25</td>\n",
       "      <td>343774597</td>\n",
       "      <td>Joanne</td>\n",
       "      <td>always a comfortable stay.  highly recommend. ...</td>\n",
       "      <td>0.9242</td>\n",
       "      <td>0.272000</td>\n",
       "      <td>0.636000</td>\n",
       "    </tr>\n",
       "    <tr>\n",
       "      <th>119042</th>\n",
       "      <td>20559146</td>\n",
       "      <td>623027859</td>\n",
       "      <td>2020-04-24</td>\n",
       "      <td>344471719</td>\n",
       "      <td>Jason</td>\n",
       "      <td>i'm a construction consultant with +20 years i...</td>\n",
       "      <td>0.8217</td>\n",
       "      <td>0.533333</td>\n",
       "      <td>0.766667</td>\n",
       "    </tr>\n",
       "  </tbody>\n",
       "</table>\n",
       "<p>2444 rows × 9 columns</p>\n",
       "</div>"
      ],
      "text/plain": [
       "        listing_id         id        date  reviewer_id reviewer_name  \\\n",
       "77214     14074129  244540579  2018-03-18         6431         Paula   \n",
       "1718         19527  319961713  2018-09-07        12483          Jill   \n",
       "1723         19527  469500471  2019-06-14        12483          Jill   \n",
       "1732         19527  536005430  2019-09-25        12483          Jill   \n",
       "27524      3678989  331097606  2018-10-01        18100       Chihiro   \n",
       "...            ...        ...         ...          ...           ...   \n",
       "120393    20747473  624174928  2020-05-07    343774597        Joanne   \n",
       "203079    42475163  622921443  2020-04-22    343774597        Joanne   \n",
       "203080    42475163  622973677  2020-04-23    343774597        Joanne   \n",
       "203081    42475163  623101692  2020-04-25    343774597        Joanne   \n",
       "119042    20559146  623027859  2020-04-24    344471719         Jason   \n",
       "\n",
       "                                                 comments  vader_polarity  \\\n",
       "77214   thank you, colin! fabulous stay in comfortable...          0.9380   \n",
       "1718    my favourite place to stay! love coming here. ...          0.9137   \n",
       "1723    my home away from home. i love staying here! i...          0.9564   \n",
       "1732    i try to stay here every time i come to vancou...          0.9819   \n",
       "27524   kriszta’s place is lovely and is a great value...          0.9824   \n",
       "...                                                   ...             ...   \n",
       "120393  highly recommend, and will always return great...          0.8803   \n",
       "203079       always a pleasure.  thank you for everything          0.7351   \n",
       "203080  always a pleasure, enjoy staying here highly r...          0.9095   \n",
       "203081  always a comfortable stay.  highly recommend. ...          0.9242   \n",
       "119042  i'm a construction consultant with +20 years i...          0.8217   \n",
       "\n",
       "        TB_polarity  polarity  \n",
       "77214      0.356250  0.678125  \n",
       "1718       0.500000  0.750000  \n",
       "1723       0.308429  0.654214  \n",
       "1732       0.364551  0.682276  \n",
       "27524      0.263750  0.631875  \n",
       "...             ...       ...  \n",
       "120393     0.373333  0.686667  \n",
       "203079     0.000000  0.500000  \n",
       "203080     0.280000  0.640000  \n",
       "203081     0.272000  0.636000  \n",
       "119042     0.533333  0.766667  \n",
       "\n",
       "[2444 rows x 9 columns]"
      ]
     },
     "execution_count": 37,
     "metadata": {},
     "output_type": "execute_result"
    }
   ],
   "source": [
    "#Check duplicates comparing listing_id and reviewer_id\n",
    "df_duplicate = df_reviews[df_reviews[['reviewer_id', 'listing_id']].duplicated()]\n",
    "df_duplicate.sort_values([\"reviewer_id\", \"listing_id\"])"
   ]
  },
  {
   "cell_type": "markdown",
   "metadata": {},
   "source": [
    "There are many duplicates. It's possible when someone likes to stay in one play, they will stay again at the same place in different time and put another review. I will group those data and get the mean value of polarity."
   ]
  },
  {
   "cell_type": "code",
   "execution_count": 38,
   "metadata": {},
   "outputs": [
    {
     "data": {
      "text/html": [
       "<div>\n",
       "<style scoped>\n",
       "    .dataframe tbody tr th:only-of-type {\n",
       "        vertical-align: middle;\n",
       "    }\n",
       "\n",
       "    .dataframe tbody tr th {\n",
       "        vertical-align: top;\n",
       "    }\n",
       "\n",
       "    .dataframe thead th {\n",
       "        text-align: right;\n",
       "    }\n",
       "</style>\n",
       "<table border=\"1\" class=\"dataframe\">\n",
       "  <thead>\n",
       "    <tr style=\"text-align: right;\">\n",
       "      <th></th>\n",
       "      <th>listing_id</th>\n",
       "      <th>reviewer_id</th>\n",
       "      <th>polarity</th>\n",
       "    </tr>\n",
       "  </thead>\n",
       "  <tbody>\n",
       "    <tr>\n",
       "      <th>0</th>\n",
       "      <td>10080</td>\n",
       "      <td>143771</td>\n",
       "      <td>0.806000</td>\n",
       "    </tr>\n",
       "    <tr>\n",
       "      <th>1</th>\n",
       "      <td>10080</td>\n",
       "      <td>725806</td>\n",
       "      <td>0.688571</td>\n",
       "    </tr>\n",
       "    <tr>\n",
       "      <th>2</th>\n",
       "      <td>10080</td>\n",
       "      <td>825299</td>\n",
       "      <td>0.833333</td>\n",
       "    </tr>\n",
       "    <tr>\n",
       "      <th>3</th>\n",
       "      <td>10080</td>\n",
       "      <td>1433564</td>\n",
       "      <td>0.569775</td>\n",
       "    </tr>\n",
       "    <tr>\n",
       "      <th>4</th>\n",
       "      <td>10080</td>\n",
       "      <td>1472653</td>\n",
       "      <td>0.500000</td>\n",
       "    </tr>\n",
       "  </tbody>\n",
       "</table>\n",
       "</div>"
      ],
      "text/plain": [
       "   listing_id  reviewer_id  polarity\n",
       "0       10080       143771  0.806000\n",
       "1       10080       725806  0.688571\n",
       "2       10080       825299  0.833333\n",
       "3       10080      1433564  0.569775\n",
       "4       10080      1472653  0.500000"
      ]
     },
     "execution_count": 38,
     "metadata": {},
     "output_type": "execute_result"
    }
   ],
   "source": [
    "#Group by listing_id and reviewer_id and calculate the mean of polarity\n",
    "df_reviews_by_listing_reviewer = df_reviews[['listing_id','reviewer_id','polarity']].groupby(['listing_id', 'reviewer_id']).agg({'polarity': 'mean'}).reset_index()\n",
    "df_reviews_by_listing_reviewer.head()"
   ]
  },
  {
   "cell_type": "code",
   "execution_count": 39,
   "metadata": {},
   "outputs": [
    {
     "data": {
      "text/plain": [
       "(200751, 3)"
      ]
     },
     "execution_count": 39,
     "metadata": {},
     "output_type": "execute_result"
    }
   ],
   "source": [
    "#Check the shape\n",
    "df_reviews_by_listing_reviewer.shape"
   ]
  },
  {
   "cell_type": "code",
   "execution_count": 40,
   "metadata": {},
   "outputs": [
    {
     "data": {
      "text/plain": [
       "(200342, 3)"
      ]
     },
     "execution_count": 40,
     "metadata": {},
     "output_type": "execute_result"
    }
   ],
   "source": [
    "#Select df where count(listing_id) >= 2\n",
    "df_listing_count = df_reviews_by_listing_reviewer['listing_id'].value_counts()\n",
    "df_reviews_by_listing_reviewer = df_reviews_by_listing_reviewer[df_reviews_by_listing_reviewer['listing_id'].isin(df_listing_count[df_listing_count >= 2].index)]\n",
    "df_reviews_by_listing_reviewer.shape"
   ]
  },
  {
   "cell_type": "code",
   "execution_count": 41,
   "metadata": {},
   "outputs": [
    {
     "data": {
      "text/plain": [
       "(27106, 3)"
      ]
     },
     "execution_count": 41,
     "metadata": {},
     "output_type": "execute_result"
    }
   ],
   "source": [
    "#Select df where count(reviewer_id) >= 2\n",
    "df_reviewer_count = df_reviews_by_listing_reviewer['reviewer_id'].value_counts()\n",
    "df_reviews_by_listing_reviewer = df_reviews_by_listing_reviewer[df_reviews_by_listing_reviewer['reviewer_id'].isin(df_reviewer_count[df_reviewer_count >= 2].index)]\n",
    "df_reviews_by_listing_reviewer.shape"
   ]
  },
  {
   "cell_type": "markdown",
   "metadata": {},
   "source": [
    "Next I will build the user-item matrix table."
   ]
  },
  {
   "cell_type": "code",
   "execution_count": 42,
   "metadata": {},
   "outputs": [
    {
     "data": {
      "text/html": [
       "<div>\n",
       "<style scoped>\n",
       "    .dataframe tbody tr th:only-of-type {\n",
       "        vertical-align: middle;\n",
       "    }\n",
       "\n",
       "    .dataframe tbody tr th {\n",
       "        vertical-align: top;\n",
       "    }\n",
       "\n",
       "    .dataframe thead th {\n",
       "        text-align: right;\n",
       "    }\n",
       "</style>\n",
       "<table border=\"1\" class=\"dataframe\">\n",
       "  <thead>\n",
       "    <tr style=\"text-align: right;\">\n",
       "      <th></th>\n",
       "      <th>new_reviewer_id</th>\n",
       "      <th>reviewer_id</th>\n",
       "    </tr>\n",
       "  </thead>\n",
       "  <tbody>\n",
       "    <tr>\n",
       "      <th>0</th>\n",
       "      <td>1</td>\n",
       "      <td>1956</td>\n",
       "    </tr>\n",
       "    <tr>\n",
       "      <th>1</th>\n",
       "      <td>2</td>\n",
       "      <td>4662</td>\n",
       "    </tr>\n",
       "    <tr>\n",
       "      <th>2</th>\n",
       "      <td>3</td>\n",
       "      <td>6431</td>\n",
       "    </tr>\n",
       "    <tr>\n",
       "      <th>3</th>\n",
       "      <td>4</td>\n",
       "      <td>7439</td>\n",
       "    </tr>\n",
       "    <tr>\n",
       "      <th>4</th>\n",
       "      <td>5</td>\n",
       "      <td>10904</td>\n",
       "    </tr>\n",
       "  </tbody>\n",
       "</table>\n",
       "</div>"
      ],
      "text/plain": [
       "   new_reviewer_id  reviewer_id\n",
       "0                1         1956\n",
       "1                2         4662\n",
       "2                3         6431\n",
       "3                4         7439\n",
       "4                5        10904"
      ]
     },
     "execution_count": 42,
     "metadata": {},
     "output_type": "execute_result"
    }
   ],
   "source": [
    "#Get list of reviewers\n",
    "reviewers = df_reviews_by_listing_reviewer['reviewer_id'].unique()\n",
    "\n",
    "#Put into data frame and set a new id for reviewer using their sort index, this is for the purpose of our logic in the function\n",
    "df_reviewer = pd.DataFrame(reviewers).sort_values(0).reset_index()\n",
    "df_reviewer.drop(columns=['index'], inplace=True)\n",
    "df_reviewer = df_reviewer.reset_index()\n",
    "df_reviewer.columns = ['new_reviewer_id', 'reviewer_id']\n",
    "df_reviewer['new_reviewer_id'] += 1\n",
    "df_reviewer.head()"
   ]
  },
  {
   "cell_type": "code",
   "execution_count": 43,
   "metadata": {},
   "outputs": [
    {
     "data": {
      "text/html": [
       "<div>\n",
       "<style scoped>\n",
       "    .dataframe tbody tr th:only-of-type {\n",
       "        vertical-align: middle;\n",
       "    }\n",
       "\n",
       "    .dataframe tbody tr th {\n",
       "        vertical-align: top;\n",
       "    }\n",
       "\n",
       "    .dataframe thead th {\n",
       "        text-align: right;\n",
       "    }\n",
       "</style>\n",
       "<table border=\"1\" class=\"dataframe\">\n",
       "  <thead>\n",
       "    <tr style=\"text-align: right;\">\n",
       "      <th></th>\n",
       "      <th>listing_id</th>\n",
       "      <th>reviewer_id</th>\n",
       "      <th>polarity</th>\n",
       "      <th>new_reviewer_id</th>\n",
       "    </tr>\n",
       "  </thead>\n",
       "  <tbody>\n",
       "    <tr>\n",
       "      <th>0</th>\n",
       "      <td>10080</td>\n",
       "      <td>825299</td>\n",
       "      <td>0.833333</td>\n",
       "      <td>283</td>\n",
       "    </tr>\n",
       "    <tr>\n",
       "      <th>1</th>\n",
       "      <td>7432239</td>\n",
       "      <td>825299</td>\n",
       "      <td>0.746065</td>\n",
       "      <td>283</td>\n",
       "    </tr>\n",
       "    <tr>\n",
       "      <th>2</th>\n",
       "      <td>10080</td>\n",
       "      <td>1914168</td>\n",
       "      <td>0.900000</td>\n",
       "      <td>574</td>\n",
       "    </tr>\n",
       "    <tr>\n",
       "      <th>3</th>\n",
       "      <td>13358</td>\n",
       "      <td>1914168</td>\n",
       "      <td>0.773571</td>\n",
       "      <td>574</td>\n",
       "    </tr>\n",
       "    <tr>\n",
       "      <th>4</th>\n",
       "      <td>3401626</td>\n",
       "      <td>1914168</td>\n",
       "      <td>0.900000</td>\n",
       "      <td>574</td>\n",
       "    </tr>\n",
       "  </tbody>\n",
       "</table>\n",
       "</div>"
      ],
      "text/plain": [
       "   listing_id  reviewer_id  polarity  new_reviewer_id\n",
       "0       10080       825299  0.833333              283\n",
       "1     7432239       825299  0.746065              283\n",
       "2       10080      1914168  0.900000              574\n",
       "3       13358      1914168  0.773571              574\n",
       "4     3401626      1914168  0.900000              574"
      ]
     },
     "execution_count": 43,
     "metadata": {},
     "output_type": "execute_result"
    }
   ],
   "source": [
    "#Merge the new reviewer id with df_reviews_by_listing_reviewer dataset\n",
    "df_reviews_by_listing_reviewer = (df_reviews_by_listing_reviewer.merge(df_reviewer, left_on='reviewer_id', right_on='reviewer_id')\n",
    "          .reindex(columns=['listing_id', 'reviewer_id', 'polarity', 'new_reviewer_id']))\n",
    "df_reviews_by_listing_reviewer.head()"
   ]
  },
  {
   "cell_type": "code",
   "execution_count": 44,
   "metadata": {},
   "outputs": [
    {
     "data": {
      "text/html": [
       "<div>\n",
       "<style scoped>\n",
       "    .dataframe tbody tr th:only-of-type {\n",
       "        vertical-align: middle;\n",
       "    }\n",
       "\n",
       "    .dataframe tbody tr th {\n",
       "        vertical-align: top;\n",
       "    }\n",
       "\n",
       "    .dataframe thead th {\n",
       "        text-align: right;\n",
       "    }\n",
       "</style>\n",
       "<table border=\"1\" class=\"dataframe\">\n",
       "  <thead>\n",
       "    <tr style=\"text-align: right;\">\n",
       "      <th></th>\n",
       "      <th>new_listing_id</th>\n",
       "      <th>listing_id</th>\n",
       "    </tr>\n",
       "  </thead>\n",
       "  <tbody>\n",
       "    <tr>\n",
       "      <th>0</th>\n",
       "      <td>1</td>\n",
       "      <td>10080</td>\n",
       "    </tr>\n",
       "    <tr>\n",
       "      <th>1</th>\n",
       "      <td>2</td>\n",
       "      <td>13188</td>\n",
       "    </tr>\n",
       "    <tr>\n",
       "      <th>2</th>\n",
       "      <td>3</td>\n",
       "      <td>13357</td>\n",
       "    </tr>\n",
       "    <tr>\n",
       "      <th>3</th>\n",
       "      <td>4</td>\n",
       "      <td>13358</td>\n",
       "    </tr>\n",
       "    <tr>\n",
       "      <th>4</th>\n",
       "      <td>5</td>\n",
       "      <td>13490</td>\n",
       "    </tr>\n",
       "  </tbody>\n",
       "</table>\n",
       "</div>"
      ],
      "text/plain": [
       "   new_listing_id  listing_id\n",
       "0               1       10080\n",
       "1               2       13188\n",
       "2               3       13357\n",
       "3               4       13358\n",
       "4               5       13490"
      ]
     },
     "execution_count": 44,
     "metadata": {},
     "output_type": "execute_result"
    }
   ],
   "source": [
    "#Get list of listings\n",
    "listings = df_reviews_by_listing_reviewer['listing_id'].unique()\n",
    "\n",
    "#Put into data frame and set a new id for listing using their sort index, this is for the purpose of our logic in the function\n",
    "df_listing = pd.DataFrame(listings).sort_values(0).reset_index()\n",
    "df_listing.drop(columns=['index'], inplace=True)\n",
    "df_listing = df_listing.reset_index()\n",
    "df_listing.columns = ['new_listing_id', 'listing_id']\n",
    "df_listing['new_listing_id'] += 1\n",
    "df_listing.head()"
   ]
  },
  {
   "cell_type": "code",
   "execution_count": 45,
   "metadata": {},
   "outputs": [
    {
     "data": {
      "text/html": [
       "<div>\n",
       "<style scoped>\n",
       "    .dataframe tbody tr th:only-of-type {\n",
       "        vertical-align: middle;\n",
       "    }\n",
       "\n",
       "    .dataframe tbody tr th {\n",
       "        vertical-align: top;\n",
       "    }\n",
       "\n",
       "    .dataframe thead th {\n",
       "        text-align: right;\n",
       "    }\n",
       "</style>\n",
       "<table border=\"1\" class=\"dataframe\">\n",
       "  <thead>\n",
       "    <tr style=\"text-align: right;\">\n",
       "      <th></th>\n",
       "      <th>listing_id</th>\n",
       "      <th>reviewer_id</th>\n",
       "      <th>polarity</th>\n",
       "      <th>new_reviewer_id</th>\n",
       "      <th>new_listing_id</th>\n",
       "    </tr>\n",
       "  </thead>\n",
       "  <tbody>\n",
       "    <tr>\n",
       "      <th>0</th>\n",
       "      <td>10080</td>\n",
       "      <td>825299</td>\n",
       "      <td>0.833333</td>\n",
       "      <td>283</td>\n",
       "      <td>1</td>\n",
       "    </tr>\n",
       "    <tr>\n",
       "      <th>1</th>\n",
       "      <td>10080</td>\n",
       "      <td>1914168</td>\n",
       "      <td>0.900000</td>\n",
       "      <td>574</td>\n",
       "      <td>1</td>\n",
       "    </tr>\n",
       "    <tr>\n",
       "      <th>2</th>\n",
       "      <td>10080</td>\n",
       "      <td>3014596</td>\n",
       "      <td>0.779762</td>\n",
       "      <td>837</td>\n",
       "      <td>1</td>\n",
       "    </tr>\n",
       "    <tr>\n",
       "      <th>3</th>\n",
       "      <td>7432239</td>\n",
       "      <td>825299</td>\n",
       "      <td>0.746065</td>\n",
       "      <td>283</td>\n",
       "      <td>521</td>\n",
       "    </tr>\n",
       "    <tr>\n",
       "      <th>4</th>\n",
       "      <td>7432239</td>\n",
       "      <td>55586890</td>\n",
       "      <td>0.670000</td>\n",
       "      <td>6305</td>\n",
       "      <td>521</td>\n",
       "    </tr>\n",
       "  </tbody>\n",
       "</table>\n",
       "</div>"
      ],
      "text/plain": [
       "   listing_id  reviewer_id  polarity  new_reviewer_id  new_listing_id\n",
       "0       10080       825299  0.833333              283               1\n",
       "1       10080      1914168  0.900000              574               1\n",
       "2       10080      3014596  0.779762              837               1\n",
       "3     7432239       825299  0.746065              283             521\n",
       "4     7432239     55586890  0.670000             6305             521"
      ]
     },
     "execution_count": 45,
     "metadata": {},
     "output_type": "execute_result"
    }
   ],
   "source": [
    "#Merge the new listing id with df_reviews_by_listing_reviewer dataset\n",
    "df_reviews_by_listing_reviewer = (df_reviews_by_listing_reviewer.merge(df_listing, left_on='listing_id', right_on='listing_id')\n",
    "          .reindex(columns=['listing_id', 'reviewer_id', 'polarity', 'new_reviewer_id', 'new_listing_id']))\n",
    "df_reviews_by_listing_reviewer.head()"
   ]
  },
  {
   "cell_type": "code",
   "execution_count": 46,
   "metadata": {},
   "outputs": [],
   "source": [
    "#Set variable for len of each unique reviewers and listings\n",
    "num_reviewers = len(reviewers)\n",
    "num_listings = len(listings)\n",
    "           \n",
    "#Set value to -1 for listings that hasn't been reviewed by the reviewer\n",
    "R = np.full((num_reviewers,num_listings), -1.0)"
   ]
  },
  {
   "cell_type": "code",
   "execution_count": 47,
   "metadata": {},
   "outputs": [
    {
     "data": {
      "text/plain": [
       "(11889, 3795)"
      ]
     },
     "execution_count": 47,
     "metadata": {},
     "output_type": "execute_result"
    }
   ],
   "source": [
    "#Build the user-item matrix\n",
    "for row in df_reviews_by_listing_reviewer.itertuples() :\n",
    "    reviewer = row[4]\n",
    "    listing = row[5]\n",
    "    polarity = row[3]\n",
    "    R[reviewer-1, listing-1] = polarity\n",
    "R.shape"
   ]
  },
  {
   "cell_type": "code",
   "execution_count": 48,
   "metadata": {},
   "outputs": [
    {
     "data": {
      "text/plain": [
       "array([[-1., -1., -1., ..., -1., -1., -1.],\n",
       "       [-1., -1., -1., ..., -1., -1., -1.],\n",
       "       [-1., -1., -1., ..., -1., -1., -1.],\n",
       "       ...,\n",
       "       [-1., -1., -1., ..., -1., -1., -1.],\n",
       "       [-1., -1., -1., ..., -1., -1., -1.],\n",
       "       [-1., -1., -1., ..., -1., -1., -1.]])"
      ]
     },
     "execution_count": 48,
     "metadata": {},
     "output_type": "execute_result"
    }
   ],
   "source": [
    "#Check the R value\n",
    "R"
   ]
  },
  {
   "cell_type": "markdown",
   "metadata": {},
   "source": [
    "#### Item-item filtering"
   ]
  },
  {
   "cell_type": "code",
   "execution_count": 49,
   "metadata": {},
   "outputs": [],
   "source": [
    "#Import the cosine_similarity package\n",
    "from sklearn.metrics.pairwise import cosine_similarity"
   ]
  },
  {
   "cell_type": "code",
   "execution_count": 50,
   "metadata": {},
   "outputs": [
    {
     "data": {
      "text/plain": [
       "2409    25\n",
       "Name: new_reviewer_id, dtype: int64"
      ]
     },
     "execution_count": 50,
     "metadata": {},
     "output_type": "execute_result"
    }
   ],
   "source": [
    "#Pick a reviewer who has reviewed the most\n",
    "df_reviews_by_listing_reviewer['new_reviewer_id'].value_counts().head(1)"
   ]
  },
  {
   "cell_type": "markdown",
   "metadata": {},
   "source": [
    "We got user id 2409 with 25 reviews."
   ]
  },
  {
   "cell_type": "code",
   "execution_count": 51,
   "metadata": {},
   "outputs": [
    {
     "data": {
      "text/plain": [
       "26    89\n",
       "Name: new_listing_id, dtype: int64"
      ]
     },
     "execution_count": 51,
     "metadata": {},
     "output_type": "execute_result"
    }
   ],
   "source": [
    "#Check listing that this reviewer hasn't reviewed and has the most reviews \n",
    "df_reviews_by_listing_reviewer[df_reviews_by_listing_reviewer['new_reviewer_id'] != 2409]['new_listing_id'].value_counts().head(1)"
   ]
  },
  {
   "cell_type": "markdown",
   "metadata": {},
   "source": [
    "We got listing id 26 with 89 reviews."
   ]
  },
  {
   "cell_type": "code",
   "execution_count": 52,
   "metadata": {},
   "outputs": [
    {
     "name": "stdout",
     "output_type": "stream",
     "text": [
      "Listing id:908\n",
      "Sample listing polarities: [[0.658625]]\n",
      "Listing to compare polarities: [[0.95]]\n",
      "Cosine similarity: [[1.]]\n",
      "Listing id:938\n",
      "Sample listing polarities: [[0.75066964]]\n",
      "Listing to compare polarities: [[0.7]]\n",
      "Cosine similarity: [[1.]]\n",
      "Listing id:1290\n",
      "Sample listing polarities: [[0.74469866 0.9       ]]\n",
      "Listing to compare polarities: [[0.6878125 0.7625   ]]\n",
      "Cosine similarity: [[0.99908874]]\n",
      "Listing id:2546\n",
      "Sample listing polarities: [[0.61875]]\n",
      "Listing to compare polarities: [[0.60208333]]\n",
      "Cosine similarity: [[1.]]\n",
      "[[1.         1.         0.99908874 1.        ]] \n",
      "\n",
      "[0.6491666666666667, 0.7333333333333334, 0.7768333333333334, 0.8722222222222222]\n"
     ]
    }
   ],
   "source": [
    "#Set variable for sample listing and reviewer\n",
    "the_listing = 26\n",
    "the_reviewer = 2409\n",
    "\n",
    "#Set lists to append to \n",
    "polarity_on_listings = []\n",
    "item_similarity = []\n",
    "\n",
    "#Loop all listings\n",
    "for each_listing in range(0, R.shape[1]):\n",
    "    \n",
    "    #if the_reviewer hasn't rated this each_listing then skip to the next listing \n",
    "    if R[the_reviewer-1, each_listing-1] == -1: \n",
    "        continue\n",
    "   \n",
    "    #To check if there are any reviewers who've rated the_listing and each_listing\n",
    "    mask = ((R[:, the_listing-1] != -1) & (R[:, each_listing-1] != -1))\n",
    "    \n",
    "    #Make sure that both listings have at least one reviewer in common (so at least one True in mask) \n",
    "    if not True in mask: \n",
    "        continue\n",
    "   \n",
    "    print(f'Listing id:{each_listing}')\n",
    "          \n",
    "    #Use the above mask to get the polarities for both listings\n",
    "    #Reshape for cosine_similarity\n",
    "    the_listing_polarities = R[mask, the_listing-1].reshape(1, -1)\n",
    "    each_listing_polarities = R[mask, each_listing-1].reshape(1, -1)\n",
    "    \n",
    "    print(f'Sample listing polarities: {the_listing_polarities}')\n",
    "    print(f'Listing to compare polarities: {each_listing_polarities}')\n",
    "    \n",
    "    similarity = cosine_similarity(the_listing_polarities, each_listing_polarities)\n",
    "    print(f'Cosine similarity: {similarity}')\n",
    "          \n",
    "    #See how similarly the_listing and each_listing were rated by reviewers by calulating the cosine distance between their polarities\n",
    "    item_similarity.append(similarity)\n",
    "    \n",
    "    #Get the polarity that the_reviewer gave each_listing\n",
    "    polarity_on_listings.append(R[the_reviewer-1, each_listing-1]) \n",
    "    \n",
    "item_similarity = np.array(item_similarity).reshape(1,-1)\n",
    "\n",
    "print(item_similarity, '\\n')\n",
    "print(polarity_on_listings)"
   ]
  },
  {
   "cell_type": "markdown",
   "metadata": {},
   "source": [
    "This is not good. Even when we use reviewer who has given many reviews and pick a listing that has quite amount of reviews, we only can find 4 listings, and each listing only has 1 user that review that specific listing. Since we did the vector to count the distance, it has high value of similarity ( 1 and 0.999) because we only have 1 or 2 dimension data for each listing. Obviously we can't use this method for the recommender system. Let's try the user-item filtering."
   ]
  },
  {
   "cell_type": "markdown",
   "metadata": {},
   "source": [
    "#### User-Item filtering"
   ]
  },
  {
   "cell_type": "code",
   "execution_count": 53,
   "metadata": {},
   "outputs": [
    {
     "name": "stdout",
     "output_type": "stream",
     "text": [
      "Reviewer id: 185\n",
      "Sample reviewer polarities: [[0.77683333]]\n",
      "Reviewer to compare polarities: [[0.6878125]]\n",
      "Cosine similarity: [[1.]]\n",
      "Reviewer id: 1076\n",
      "Sample reviewer polarities: [[0.87222222]]\n",
      "Reviewer to compare polarities: [[0.60208333]]\n",
      "Cosine similarity: [[1.]]\n",
      "Reviewer id: 5734\n",
      "Sample reviewer polarities: [[0.64916667]]\n",
      "Reviewer to compare polarities: [[0.95]]\n",
      "Cosine similarity: [[1.]]\n",
      "Reviewer id: 6822\n",
      "Sample reviewer polarities: [[0.73333333]]\n",
      "Reviewer to compare polarities: [[0.7]]\n",
      "Cosine similarity: [[1.]]\n",
      "Reviewer id: 8386\n",
      "Sample reviewer polarities: [[0.77683333]]\n",
      "Reviewer to compare polarities: [[0.7625]]\n",
      "Cosine similarity: [[1.]]\n",
      "[[1. 1. 1. 1. 1.]] \n",
      "\n",
      "[0.7446986607142857, 0.61875, 0.658625, 0.7506696428571429, 0.9]\n"
     ]
    }
   ],
   "source": [
    "#Set variable for sample listing and reviewer\n",
    "the_listing = 26\n",
    "the_reviewer = 2409\n",
    "\n",
    "#Set lists to append to \n",
    "the_listing_polarities = []\n",
    "reviewer_similarity = []\n",
    "\n",
    "#Loop all reviewers\n",
    "for each_reviewer in range(0, R.shape[0]):\n",
    "    \n",
    "    #if each_reviewer hasn't rated the sample listing then skip to the next user\n",
    "    if R[each_reviewer-1, the_listing-1] == -1:\n",
    "        continue\n",
    "        \n",
    "    #To check if there are any listings which has been rated by sample reviewer and each reviewer\n",
    "    mask = ((R[the_reviewer-1, :] != -1) & (R[each_reviewer-1, :] != -1))\n",
    "\n",
    "    #Make sure that both reviewers have at least one listing in common (so at least one True in mask)\n",
    "    if not True in mask: \n",
    "        continue\n",
    "    \n",
    "    #Use the above mask to get the polarities for both reviewers\n",
    "    #Reshape for cosine_similarity\n",
    "    the_reviewer_polarities = R[the_reviewer-1, mask].reshape(1, -1)\n",
    "    each_reviewer_polarities = R[each_reviewer-1, mask].reshape(1, -1)\n",
    "    \n",
    "    print(f'Reviewer id: {each_reviewer}')\n",
    "    print(f'Sample reviewer polarities: {the_reviewer_polarities}')\n",
    "    print(f'Reviewer to compare polarities: {each_reviewer_polarities}')\n",
    "    \n",
    "    similarity = cosine_similarity(the_reviewer_polarities, each_reviewer_polarities)\n",
    "    print(f'Cosine similarity: {similarity}')\n",
    "    \n",
    "    #See how similarly the_reviewer and each_reviewer gave polarity score by calulating the cosine distance between their polarities\n",
    "    reviewer_similarity.append(similarity)\n",
    "    \n",
    "    #Get the polarity that each_reviewer gave to the sample listing\n",
    "    the_listing_polarities.append(R[each_reviewer-1, the_listing-1])\n",
    "    \n",
    "reviewer_similarity = np.array(reviewer_similarity).reshape(1,-1)\n",
    "\n",
    "\n",
    "print(reviewer_similarity, '\\n')\n",
    "print(the_listing_polarities)"
   ]
  },
  {
   "cell_type": "markdown",
   "metadata": {},
   "source": [
    "It has the same pattern. We can see all the similarity scores are 1 due to only 1 dimension for each reviewer polarity to be compared. Having said that, we can't do collaborative recommender system with above manual function of user-item and item-item filtering using this dataset.\n",
    "\n",
    "Luckily, there is a modelling package from Surprise library that widely used for collaborative filtering. I will do the activity in the next ipynb file. For now, I will download the final dataset to csv file so we don't have to repeat several steps above."
   ]
  },
  {
   "cell_type": "code",
   "execution_count": 54,
   "metadata": {},
   "outputs": [],
   "source": [
    "#I will save the clean df to csv file to be used for modelling purpose\n",
    "df_reviews_fin = df_reviews_by_listing_reviewer[['reviewer_id','listing_id','polarity']]\n",
    "df_reviews_fin.shape\n",
    "df_reviews_fin.to_csv('data/reviews_polarity.csv')"
   ]
  },
  {
   "cell_type": "markdown",
   "metadata": {},
   "source": [
    "---\n",
    "##### (Continue to 3_Collaborative_with_Modelling)\n",
    "---"
   ]
  }
 ],
 "metadata": {
  "kernelspec": {
   "display_name": "Python 3",
   "language": "python",
   "name": "python3"
  },
  "language_info": {
   "codemirror_mode": {
    "name": "ipython",
    "version": 3
   },
   "file_extension": ".py",
   "mimetype": "text/x-python",
   "name": "python",
   "nbconvert_exporter": "python",
   "pygments_lexer": "ipython3",
   "version": "3.8.3"
  }
 },
 "nbformat": 4,
 "nbformat_minor": 4
}
